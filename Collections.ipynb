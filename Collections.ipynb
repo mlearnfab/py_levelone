{
 "cells": [
  {
   "cell_type": "markdown",
   "id": "e846f7cc",
   "metadata": {},
   "source": [
    "# Machine Learning for Absolute Beginners\n",
    "\n",
    "## Python Bootcamp for Machine Learning, Level I\n",
    "\n",
    "#### Revision Date: 02-13-2022\n"
   ]
  },
  {
   "cell_type": "markdown",
   "id": "6a3746b9",
   "metadata": {},
   "source": [
    "> A computer does two things, and two things only: it performs calculations and it remembers the results of those calculations. \n",
    "\n",
    ">**John V. Guttag. MIT**"
   ]
  },
  {
   "cell_type": "markdown",
   "id": "a1e4c0c3",
   "metadata": {},
   "source": [
    "# Collections \n",
    "\n",
    "In Python there are four basic collections:  `set`, `list`, `tuple`, and `dict`.  \n",
    "\n",
    "- Think of collections as molecules.  \n",
    "- Collections can be unordered or ordered. \n",
    "- Collections are mutable or immutable."
   ]
  },
  {
   "cell_type": "markdown",
   "id": "2904bfcc",
   "metadata": {},
   "source": [
    "## Lists\n",
    "Lists are ordered collections. They are also mutable."
   ]
  },
  {
   "cell_type": "code",
   "execution_count": 1,
   "id": "d41acc99",
   "metadata": {},
   "outputs": [
    {
     "name": "stdout",
     "output_type": "stream",
     "text": [
      "[3.14159, False, -15, 'James Baldwin']\n"
     ]
    }
   ],
   "source": [
    "# from our atoms let's create a list taking a sample of each simple object\n",
    "NoahsArk = [3.14159, False, -15, 'James Baldwin']\n",
    "print(NoahsArk)"
   ]
  },
  {
   "cell_type": "code",
   "execution_count": 7,
   "id": "f6ecbb8b",
   "metadata": {},
   "outputs": [
    {
     "data": {
      "text/plain": [
       "5"
      ]
     },
     "execution_count": 7,
     "metadata": {},
     "output_type": "execute_result"
    }
   ],
   "source": [
    "# length of the list tells us how many elements are in the list\n",
    "len(NoahsArk)"
   ]
  },
  {
   "cell_type": "code",
   "execution_count": 9,
   "id": "e348c30a",
   "metadata": {},
   "outputs": [
    {
     "data": {
      "text/plain": [
       "-15"
      ]
     },
     "execution_count": 9,
     "metadata": {},
     "output_type": "execute_result"
    }
   ],
   "source": [
    "# index or offset is the position of an item in the list. We can use index to retrieve a specific element of the list.\n",
    "NoahsArk[2]"
   ]
  },
  {
   "cell_type": "code",
   "execution_count": 2,
   "id": "35596ad7",
   "metadata": {},
   "outputs": [
    {
     "name": "stdout",
     "output_type": "stream",
     "text": [
      "[3.14159, False, -15, 'James Baldwin', 'Notes of a Native Son']\n"
     ]
    }
   ],
   "source": [
    "# lists are mutable, meaning we can add and remove elements from it\n",
    "NoahsArk.append('Notes of a Native Son')\n",
    "print(NoahsArk)"
   ]
  },
  {
   "cell_type": "code",
   "execution_count": null,
   "id": "5a0ebb7c",
   "metadata": {},
   "outputs": [],
   "source": [
    "# Sets "
   ]
  },
  {
   "cell_type": "code",
   "execution_count": 3,
   "id": "0b1d810b",
   "metadata": {},
   "outputs": [],
   "source": [
    "# create two sets\n",
    "evens = {2,4,6,8}\n",
    "odds = {1,3,5,7}"
   ]
  },
  {
   "cell_type": "code",
   "execution_count": 10,
   "id": "e0ea792e",
   "metadata": {},
   "outputs": [
    {
     "data": {
      "text/plain": [
       "True"
      ]
     },
     "execution_count": 10,
     "metadata": {},
     "output_type": "execute_result"
    }
   ],
   "source": [
    "2 in evens"
   ]
  },
  {
   "cell_type": "code",
   "execution_count": 11,
   "id": "458fc491",
   "metadata": {},
   "outputs": [
    {
     "data": {
      "text/plain": [
       "False"
      ]
     },
     "execution_count": 11,
     "metadata": {},
     "output_type": "execute_result"
    }
   ],
   "source": [
    "3 in evens"
   ]
  },
  {
   "cell_type": "code",
   "execution_count": 12,
   "id": "32eecfb5",
   "metadata": {},
   "outputs": [
    {
     "data": {
      "text/plain": [
       "{1, 2, 3, 4, 5, 6, 7, 8}"
      ]
     },
     "execution_count": 12,
     "metadata": {},
     "output_type": "execute_result"
    }
   ],
   "source": [
    "# set union\n",
    "evens | odds"
   ]
  },
  {
   "cell_type": "code",
   "execution_count": 43,
   "id": "9d6b7183",
   "metadata": {},
   "outputs": [
    {
     "data": {
      "text/plain": [
       "set()"
      ]
     },
     "execution_count": 43,
     "metadata": {},
     "output_type": "execute_result"
    }
   ],
   "source": [
    "# set intersection\n",
    "evens & odds"
   ]
  },
  {
   "cell_type": "code",
   "execution_count": 53,
   "id": "b8b0a072",
   "metadata": {},
   "outputs": [],
   "source": [
    "# create a dictionary called library\n",
    "library = {\"James Baldwin\": [\"Notes of a Native Son\",\"Giovanni's Room\",\"Go Tell It on the Mountain\"], \n",
    "          \"Anton Chekhov\": [\"Three Sisters\",\"The Cherry Orchard\"],\n",
    "           \"Gustave Flaubert\": [\"Madame Bovary\", \"A Sentimental Education\"]}"
   ]
  },
  {
   "cell_type": "code",
   "execution_count": 52,
   "id": "8ee22bc1",
   "metadata": {},
   "outputs": [
    {
     "data": {
      "text/plain": [
       "['Madame Bovary', 'A Sentimental Education']"
      ]
     },
     "execution_count": 52,
     "metadata": {},
     "output_type": "execute_result"
    }
   ],
   "source": [
    "library[\"Gustave Flaubert\"]"
   ]
  },
  {
   "cell_type": "code",
   "execution_count": 54,
   "id": "48653813",
   "metadata": {},
   "outputs": [],
   "source": [
    "# create tuples\n",
    "suits = (\"clubs\", \"diamonds\", \"hearts\", \"spades\")\n",
    "ranks = (\"1\", \"2\", \"3\",\"4\",\"4\",\"5\",\"6\",\"7\",\"8\",\"9\",\"10\",\"Jack\",\"Queen\",\"King\",\"Ace\")"
   ]
  },
  {
   "cell_type": "code",
   "execution_count": 55,
   "id": "198c8dc0",
   "metadata": {},
   "outputs": [
    {
     "data": {
      "text/plain": [
       "'hearts'"
      ]
     },
     "execution_count": 55,
     "metadata": {},
     "output_type": "execute_result"
    }
   ],
   "source": [
    "suits[2]"
   ]
  },
  {
   "cell_type": "code",
   "execution_count": 71,
   "id": "f4595673",
   "metadata": {},
   "outputs": [],
   "source": [
    "# create a card deck using list comprehension \n",
    "card_deck = tuple([(suit,rank) for suit in suits for rank in ranks])"
   ]
  },
  {
   "cell_type": "code",
   "execution_count": 82,
   "id": "ef043c88",
   "metadata": {},
   "outputs": [],
   "source": [
    "# import the random library which contains a set of functions for generating pseudo random numbers\n",
    "import random"
   ]
  },
  {
   "cell_type": "code",
   "execution_count": 86,
   "id": "92778abc",
   "metadata": {},
   "outputs": [
    {
     "data": {
      "text/plain": [
       "('clubs', '9')"
      ]
     },
     "execution_count": 86,
     "metadata": {},
     "output_type": "execute_result"
    }
   ],
   "source": [
    "# randomly choose or sample from certain types of collections (e.g. lists, tuples)\n",
    "random.choice(card_deck)\n",
    "#random.sample(card_deck,1)"
   ]
  }
 ],
 "metadata": {
  "kernelspec": {
   "display_name": "Python 3 (ipykernel)",
   "language": "python",
   "name": "python3"
  },
  "language_info": {
   "codemirror_mode": {
    "name": "ipython",
    "version": 3
   },
   "file_extension": ".py",
   "mimetype": "text/x-python",
   "name": "python",
   "nbconvert_exporter": "python",
   "pygments_lexer": "ipython3",
   "version": "3.9.7"
  }
 },
 "nbformat": 4,
 "nbformat_minor": 5
}
