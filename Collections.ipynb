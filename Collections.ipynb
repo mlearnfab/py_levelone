{
 "cells": [
  {
   "cell_type": "markdown",
   "id": "e846f7cc",
   "metadata": {},
   "source": [
    "\n",
    "# Python Bootcamp for Machine Learning, Level I\n",
    "\n",
    "#### Revision Date: 02-13-2022\n"
   ]
  },
  {
   "cell_type": "markdown",
   "id": "a1e4c0c3",
   "metadata": {},
   "source": [
    "# Collections \n",
    "\n",
    "In Python there are four basic collections:  `set`, `list`, `tuple`, and `dict`.  \n",
    "\n",
    "- Think of collections as molecules.  \n",
    "- Collections can be unordered or ordered. \n",
    "- Collections are mutable or immutable."
   ]
  },
  {
   "cell_type": "markdown",
   "id": "2904bfcc",
   "metadata": {},
   "source": [
    "## Lists\n",
    "Lists are ordered collections. They are also mutable."
   ]
  },
  {
   "cell_type": "code",
   "execution_count": 2,
   "id": "1a0a151b",
   "metadata": {},
   "outputs": [],
   "source": [
    "my_list = [2,3.3,'James Baldwin']"
   ]
  },
  {
   "cell_type": "code",
   "execution_count": 3,
   "id": "c04b629c",
   "metadata": {},
   "outputs": [
    {
     "name": "stdout",
     "output_type": "stream",
     "text": [
      "[2, 3.3, 'James Baldwin']\n"
     ]
    }
   ],
   "source": [
    "print(my_list)"
   ]
  },
  {
   "cell_type": "code",
   "execution_count": 4,
   "id": "e61eb92f",
   "metadata": {},
   "outputs": [
    {
     "data": {
      "text/plain": [
       "3"
      ]
     },
     "execution_count": 4,
     "metadata": {},
     "output_type": "execute_result"
    }
   ],
   "source": [
    "len(my_list)"
   ]
  },
  {
   "cell_type": "code",
   "execution_count": 5,
   "id": "d41acc99",
   "metadata": {},
   "outputs": [
    {
     "name": "stdout",
     "output_type": "stream",
     "text": [
      "[3.14159, False, -15, 'James Baldwin']\n"
     ]
    }
   ],
   "source": [
    "# from our atoms let's create a list taking a sample of each simple object\n",
    "NoahsArk = [3.14159, False, -15, 'James Baldwin']\n",
    "print(NoahsArk)"
   ]
  },
  {
   "cell_type": "code",
   "execution_count": 7,
   "id": "f6ecbb8b",
   "metadata": {},
   "outputs": [
    {
     "data": {
      "text/plain": [
       "5"
      ]
     },
     "execution_count": 7,
     "metadata": {},
     "output_type": "execute_result"
    }
   ],
   "source": [
    "# length of the list tells us how many elements are in the list\n",
    "len(NoahsArk)"
   ]
  },
  {
   "cell_type": "code",
   "execution_count": 8,
   "id": "e348c30a",
   "metadata": {},
   "outputs": [
    {
     "data": {
      "text/plain": [
       "False"
      ]
     },
     "execution_count": 8,
     "metadata": {},
     "output_type": "execute_result"
    }
   ],
   "source": [
    "# index or offset is the position of an item in the list. We can use index to retrieve a specific element of the list.\n",
    "NoahsArk[1]"
   ]
  },
  {
   "cell_type": "code",
   "execution_count": 10,
   "id": "35596ad7",
   "metadata": {},
   "outputs": [
    {
     "name": "stdout",
     "output_type": "stream",
     "text": [
      "[3.14159, False, -15, 'James Baldwin', 'Notes of a Native Son', 'Notes of a Native Son']\n"
     ]
    },
    {
     "data": {
      "text/plain": [
       "6"
      ]
     },
     "execution_count": 10,
     "metadata": {},
     "output_type": "execute_result"
    }
   ],
   "source": [
    "# lists are mutable, meaning we can add and remove elements from it\n",
    "NoahsArk.append('Notes of a Native Son')\n",
    "print(NoahsArk)\n",
    "len(NoahsArk)"
   ]
  },
  {
   "cell_type": "markdown",
   "id": "c2305c8d",
   "metadata": {},
   "source": [
    "# Sets \n",
    "\n",
    "Sets are unordered collection of unique elements. Sets are mutable."
   ]
  },
  {
   "cell_type": "code",
   "execution_count": 2,
   "id": "0b1d810b",
   "metadata": {},
   "outputs": [],
   "source": [
    "# create two sets\n",
    "evens = {2,4,6,8}\n",
    "odds = {1,3,5,7}"
   ]
  },
  {
   "cell_type": "code",
   "execution_count": 3,
   "id": "e163ef9c",
   "metadata": {},
   "outputs": [
    {
     "name": "stdout",
     "output_type": "stream",
     "text": [
      "{8, 2, 4, 6}\n"
     ]
    }
   ],
   "source": [
    "print(evens)"
   ]
  },
  {
   "cell_type": "code",
   "execution_count": 4,
   "id": "e0ea792e",
   "metadata": {},
   "outputs": [
    {
     "data": {
      "text/plain": [
       "True"
      ]
     },
     "execution_count": 4,
     "metadata": {},
     "output_type": "execute_result"
    }
   ],
   "source": [
    "# in checks to see if an element is in a set\n",
    "2 in evens"
   ]
  },
  {
   "cell_type": "code",
   "execution_count": 5,
   "id": "458fc491",
   "metadata": {},
   "outputs": [
    {
     "data": {
      "text/plain": [
       "False"
      ]
     },
     "execution_count": 5,
     "metadata": {},
     "output_type": "execute_result"
    }
   ],
   "source": [
    "3 in evens"
   ]
  },
  {
   "cell_type": "code",
   "execution_count": 6,
   "id": "32eecfb5",
   "metadata": {},
   "outputs": [],
   "source": [
    "# set union\n",
    "newset = evens | odds"
   ]
  },
  {
   "cell_type": "code",
   "execution_count": 9,
   "id": "9d6b7183",
   "metadata": {},
   "outputs": [
    {
     "data": {
      "text/plain": [
       "set()"
      ]
     },
     "execution_count": 9,
     "metadata": {},
     "output_type": "execute_result"
    }
   ],
   "source": [
    "# set intersection yields empty set\n",
    "evens & odds"
   ]
  },
  {
   "cell_type": "markdown",
   "id": "1684b3d5",
   "metadata": {},
   "source": [
    "# Dictionaries\n",
    "\n",
    "Dictionaries are key, value pairs"
   ]
  },
  {
   "cell_type": "code",
   "execution_count": null,
   "id": "b5ed8928",
   "metadata": {},
   "outputs": [],
   "source": []
  },
  {
   "cell_type": "code",
   "execution_count": 19,
   "id": "59881501",
   "metadata": {},
   "outputs": [
    {
     "data": {
      "text/plain": [
       "1"
      ]
     },
     "execution_count": 19,
     "metadata": {},
     "output_type": "execute_result"
    }
   ],
   "source": [
    "my_dict = {'a':1, 'b':2}\n",
    "\n",
    "my_dict['a']"
   ]
  },
  {
   "cell_type": "code",
   "execution_count": 20,
   "id": "b8b0a072",
   "metadata": {},
   "outputs": [],
   "source": [
    "# create a dictionary called library\n",
    "library = {\"James Baldwin\": [\"Notes of a Native Son\",\"Giovanni's Room\",\"Go Tell It on the Mountain\"], \n",
    "          \"Anton Chekhov\": [\"Three Sisters\",\"The Cherry Orchard\"],\n",
    "           \"Gustave Flaubert\": [\"Madame Bovary\", \"A Sentimental Education\"]}"
   ]
  },
  {
   "cell_type": "code",
   "execution_count": 23,
   "id": "d6494c5d",
   "metadata": {},
   "outputs": [
    {
     "data": {
      "text/plain": [
       "['Lectures on Physics']"
      ]
     },
     "execution_count": 23,
     "metadata": {},
     "output_type": "execute_result"
    }
   ],
   "source": [
    "lib = {\"Richard Feynman\": [\"Lectures on Physics\"]}\n",
    "lib[\"Richard Feynman\"]"
   ]
  },
  {
   "cell_type": "code",
   "execution_count": 24,
   "id": "8ee22bc1",
   "metadata": {},
   "outputs": [
    {
     "data": {
      "text/plain": [
       "['Madame Bovary', 'A Sentimental Education']"
      ]
     },
     "execution_count": 24,
     "metadata": {},
     "output_type": "execute_result"
    }
   ],
   "source": [
    "library[\"Gustave Flaubert\"]"
   ]
  },
  {
   "cell_type": "code",
   "execution_count": 31,
   "id": "48653813",
   "metadata": {},
   "outputs": [],
   "source": [
    "# create tuples\n",
    "suits = (\"clubs\", \"diamonds\", \"hearts\", \"spades\")\n",
    "ranks = (\"2\", \"3\",\"4\",\"4\",\"5\",\"6\",\"7\",\"8\",\"9\",\"10\",\"Jack\",\"Queen\",\"King\",\"Ace\")"
   ]
  },
  {
   "cell_type": "code",
   "execution_count": 32,
   "id": "198c8dc0",
   "metadata": {},
   "outputs": [
    {
     "data": {
      "text/plain": [
       "'hearts'"
      ]
     },
     "execution_count": 32,
     "metadata": {},
     "output_type": "execute_result"
    }
   ],
   "source": [
    "suits[2]"
   ]
  },
  {
   "cell_type": "code",
   "execution_count": 33,
   "id": "f4595673",
   "metadata": {},
   "outputs": [],
   "source": [
    "# create a card deck using list comprehension \n",
    "card_deck = tuple([(suit,rank) for suit in suits for rank in ranks])"
   ]
  },
  {
   "cell_type": "code",
   "execution_count": 34,
   "id": "2c5475f9",
   "metadata": {},
   "outputs": [
    {
     "data": {
      "text/plain": [
       "56"
      ]
     },
     "execution_count": 34,
     "metadata": {},
     "output_type": "execute_result"
    }
   ],
   "source": [
    "len(card_deck)"
   ]
  },
  {
   "cell_type": "code",
   "execution_count": 35,
   "id": "ef043c88",
   "metadata": {},
   "outputs": [],
   "source": [
    "# import the random library which contains a set of functions for generating pseudo random numbers\n",
    "import random"
   ]
  },
  {
   "cell_type": "code",
   "execution_count": 38,
   "id": "92778abc",
   "metadata": {},
   "outputs": [
    {
     "data": {
      "text/plain": [
       "('hearts', '5')"
      ]
     },
     "execution_count": 38,
     "metadata": {},
     "output_type": "execute_result"
    }
   ],
   "source": [
    "# randomly choose or sample from certain types of collections (e.g. lists, tuples)\n",
    "random.choice(card_deck)\n",
    "#random.sample(card_deck,1)"
   ]
  }
 ],
 "metadata": {
  "kernelspec": {
   "display_name": "Python 3 (ipykernel)",
   "language": "python",
   "name": "python3"
  },
  "language_info": {
   "codemirror_mode": {
    "name": "ipython",
    "version": 3
   },
   "file_extension": ".py",
   "mimetype": "text/x-python",
   "name": "python",
   "nbconvert_exporter": "python",
   "pygments_lexer": "ipython3",
   "version": "3.9.7"
  }
 },
 "nbformat": 4,
 "nbformat_minor": 5
}
