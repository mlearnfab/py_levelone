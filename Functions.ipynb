{
 "cells": [
  {
   "cell_type": "markdown",
   "id": "e846f7cc",
   "metadata": {},
   "source": [
    "# Python Bootcamp for Machine Learning, Level I\n",
    "\n",
    "\n",
    "#### Revision Date: 02-13-2022\n"
   ]
  },
  {
   "cell_type": "markdown",
   "id": "63e01d56",
   "metadata": {},
   "source": [
    "# Functions \n",
    "\n",
    "Functions form the core of any programming language. What is a function in programming? It's a block of code that performs a computation. But it is defined in a way that we call on the function as we need it. \n",
    "\n",
    "A function takes a set of inputs, performs a computation on the inputs, and produces an output.\n"
   ]
  },
  {
   "cell_type": "code",
   "execution_count": 1,
   "id": "4e1678b1",
   "metadata": {},
   "outputs": [],
   "source": [
    "def squared_fooo(n):\n",
    "     calculation = (n**2) - 1\n",
    "     return calculation"
   ]
  },
  {
   "cell_type": "code",
   "execution_count": 2,
   "id": "9daa0154",
   "metadata": {},
   "outputs": [
    {
     "data": {
      "text/plain": [
       "8"
      ]
     },
     "execution_count": 2,
     "metadata": {},
     "output_type": "execute_result"
    }
   ],
   "source": [
    "squared_fooo(3)"
   ]
  },
  {
   "cell_type": "markdown",
   "id": "7c9a85e3",
   "metadata": {},
   "source": [
    "The following function which takes first name and last name as arguments or parameters and returns full name as output.\n",
    "\n",
    "```Python \n",
    "def fullname(first, last):\n",
    "    full = first + \" \" + last\n",
    "    return full\n",
    "```"
   ]
  },
  {
   "cell_type": "code",
   "execution_count": 16,
   "id": "f4049d7b",
   "metadata": {},
   "outputs": [],
   "source": [
    "# use this cell to practice writing the function \n",
    "\n"
   ]
  },
  {
   "cell_type": "code",
   "execution_count": null,
   "id": "76df3541",
   "metadata": {},
   "outputs": [],
   "source": []
  },
  {
   "cell_type": "code",
   "execution_count": 2,
   "id": "c13c21f6",
   "metadata": {},
   "outputs": [],
   "source": [
    "# use the cell to modify the function so it returns last, first as the output\n",
    "\n"
   ]
  },
  {
   "cell_type": "markdown",
   "id": "ff36a2a3",
   "metadata": {},
   "source": [
    "Let's write a function to calculate tip for a bill. Our function will use (or \"call\") to other functions from the built-in Python library. The first is `input`. The second is `float`, which converts an object's type to `float`."
   ]
  },
  {
   "cell_type": "code",
   "execution_count": 18,
   "id": "80f3da7c",
   "metadata": {},
   "outputs": [],
   "source": [
    "# let's define a function for calculating tips\n",
    "# input value is a string; needs to be converted to type float or int for calculations\n",
    "# the tip calculator function is using two built- functions \n",
    "\n",
    "def tip_calculator():\n",
    "    bill = float(input(\"How much is the bill? \"))\n",
    "    pctg = float(input(\"How percentage do you want to tip?\"))\n",
    "    tip = bill * pctg\n",
    "    return tip"
   ]
  },
  {
   "cell_type": "code",
   "execution_count": 19,
   "id": "97f1c505",
   "metadata": {},
   "outputs": [
    {
     "name": "stdout",
     "output_type": "stream",
     "text": [
      "How much is the bill? 23.34\n",
      "How percentage do you want to tip?.22\n"
     ]
    },
    {
     "data": {
      "text/plain": [
       "5.1348"
      ]
     },
     "execution_count": 19,
     "metadata": {},
     "output_type": "execute_result"
    }
   ],
   "source": [
    "tip_calculator()"
   ]
  },
  {
   "cell_type": "code",
   "execution_count": 21,
   "id": "b9645fda",
   "metadata": {},
   "outputs": [],
   "source": [
    "# rewrite function so it takes bill and pctg as parameters of function\n",
    "def tip_calc(bill,pctg):\n",
    "    tip = bill * pctg\n",
    "    return tip"
   ]
  },
  {
   "cell_type": "code",
   "execution_count": 24,
   "id": "b6927cf8",
   "metadata": {},
   "outputs": [],
   "source": [
    "tip = tip_calc(78,.23)"
   ]
  },
  {
   "cell_type": "code",
   "execution_count": 25,
   "id": "c0fbe391",
   "metadata": {},
   "outputs": [],
   "source": [
    "# rewrite function so it takes bill and pctg as parameters of function\n",
    "def suggested_tips(bill):\n",
    "    suggested = [.15,.20, .25, .30]\n",
    "    print(\"Suggested Tips\")\n",
    "    for pctg in suggested:\n",
    "        tip = bill * pctg\n",
    "        print(f\"{int(pctg*100)} percent: $\", round(tip,2))\n",
    "    "
   ]
  },
  {
   "cell_type": "code",
   "execution_count": 26,
   "id": "c0b552d3",
   "metadata": {},
   "outputs": [
    {
     "name": "stdout",
     "output_type": "stream",
     "text": [
      "Suggested Tips\n",
      "15 percent: $ 6.93\n",
      "20 percent: $ 9.25\n",
      "25 percent: $ 11.56\n",
      "30 percent: $ 13.87\n"
     ]
    }
   ],
   "source": [
    "suggested_tips(46.23)"
   ]
  }
 ],
 "metadata": {
  "kernelspec": {
   "display_name": "Python 3 (ipykernel)",
   "language": "python",
   "name": "python3"
  },
  "language_info": {
   "codemirror_mode": {
    "name": "ipython",
    "version": 3
   },
   "file_extension": ".py",
   "mimetype": "text/x-python",
   "name": "python",
   "nbconvert_exporter": "python",
   "pygments_lexer": "ipython3",
   "version": "3.9.7"
  }
 },
 "nbformat": 4,
 "nbformat_minor": 5
}
