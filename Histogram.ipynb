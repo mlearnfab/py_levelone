{
 "cells": [
  {
   "cell_type": "code",
   "execution_count": 1,
   "id": "90350878",
   "metadata": {},
   "outputs": [],
   "source": [
    "import random\n",
    "import matplotlib.pyplot as plt\n",
    "from collections import Counter"
   ]
  },
  {
   "cell_type": "code",
   "execution_count": 2,
   "id": "0939ddbc",
   "metadata": {},
   "outputs": [
    {
     "name": "stdout",
     "output_type": "stream",
     "text": [
      "4\n"
     ]
    }
   ],
   "source": [
    "roll = random.randint(1,6)\n",
    "print(roll)"
   ]
  },
  {
   "cell_type": "code",
   "execution_count": 3,
   "id": "d50f8ee9",
   "metadata": {},
   "outputs": [],
   "source": [
    "def tosses_result(n):\n",
    "    tosses = []\n",
    "    for i in range(n):\n",
    "        toss = random.randint(1,6)\n",
    "        tosses.append(toss)\n",
    "    return tosses"
   ]
  },
  {
   "cell_type": "code",
   "execution_count": 4,
   "id": "c477216c",
   "metadata": {},
   "outputs": [
    {
     "data": {
      "text/plain": [
       "[3, 3, 2, 4, 6, 5, 4, 1, 5, 2, 1, 6, 3, 2, 2, 2, 2, 1, 3, 6, 2, 2, 2, 6, 1]"
      ]
     },
     "execution_count": 4,
     "metadata": {},
     "output_type": "execute_result"
    }
   ],
   "source": [
    "tosses_result(25)"
   ]
  },
  {
   "cell_type": "code",
   "execution_count": 5,
   "id": "f15cd5e9",
   "metadata": {},
   "outputs": [],
   "source": [
    "tosses_dict = Counter(tosses_result(10000))"
   ]
  },
  {
   "cell_type": "code",
   "execution_count": 6,
   "id": "c645b2a1",
   "metadata": {},
   "outputs": [
    {
     "data": {
      "text/plain": [
       "Counter({5: 1653, 1: 1673, 3: 1690, 2: 1685, 6: 1673, 4: 1626})"
      ]
     },
     "execution_count": 6,
     "metadata": {},
     "output_type": "execute_result"
    }
   ],
   "source": [
    "tosses_dict"
   ]
  },
  {
   "cell_type": "code",
   "execution_count": 7,
   "id": "ef7bd444",
   "metadata": {},
   "outputs": [
    {
     "data": {
      "text/plain": [
       "<BarContainer object of 6 artists>"
      ]
     },
     "execution_count": 7,
     "metadata": {},
     "output_type": "execute_result"
    },
    {
     "data": {
      "image/png": "[encoded data removed]",
      "text/plain": [
       "<Figure size 432x288 with 1 Axes>"
      ]
     },
     "metadata": {
      "needs_background": "light"
     },
     "output_type": "display_data"
    }
   ],
   "source": [
    "plt.bar(tosses_dict.keys(),tosses_dict.values())"
   ]
  }
 ],
 "metadata": {
  "kernelspec": {
   "display_name": "Python 3 (ipykernel)",
   "language": "python",
   "name": "python3"
  },
  "language_info": {
   "codemirror_mode": {
    "name": "ipython",
    "version": 3
   },
   "file_extension": ".py",
   "mimetype": "text/x-python",
   "name": "python",
   "nbconvert_exporter": "python",
   "pygments_lexer": "ipython3",
   "version": "3.9.7"
  }
 },
 "nbformat": 4,
 "nbformat_minor": 5
}
