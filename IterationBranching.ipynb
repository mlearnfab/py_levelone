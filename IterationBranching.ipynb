{
 "cells": [
  {
   "cell_type": "code",
   "execution_count": null,
   "id": "3684e2f0",
   "metadata": {},
   "outputs": [],
   "source": []
  },
  {
   "cell_type": "markdown",
   "id": "e846f7cc",
   "metadata": {},
   "source": [
    "# Machine Learning for Absolute Beginners\n",
    "\n",
    "## Python Bootcamp for Machine Learning, Level I\n",
    "\n",
    "#### Revision Date: 02-13-2022\n"
   ]
  },
  {
   "cell_type": "markdown",
   "id": "658bc138",
   "metadata": {},
   "source": [
    "# Iteration\n",
    "\n",
    "Iteration is the process of repeating a block of code multiple times. "
   ]
  },
  {
   "cell_type": "code",
   "execution_count": 6,
   "id": "293fefec",
   "metadata": {},
   "outputs": [],
   "source": [
    "# let's define a list containing colors\n",
    "colors = ['Mauve', 'Ochre', 'Damask', 'Cattleya']"
   ]
  },
  {
   "cell_type": "code",
   "execution_count": 7,
   "id": "864e245e",
   "metadata": {},
   "outputs": [
    {
     "data": {
      "text/plain": [
       "'Damask'"
      ]
     },
     "execution_count": 7,
     "metadata": {},
     "output_type": "execute_result"
    }
   ],
   "source": [
    "# retrieve the third element of the list. python indices begin at 9\n",
    "colors[2]"
   ]
  },
  {
   "cell_type": "code",
   "execution_count": 8,
   "id": "c14a9a44",
   "metadata": {},
   "outputs": [
    {
     "name": "stdout",
     "output_type": "stream",
     "text": [
      "Mauve 5\n",
      "Ochre 5\n",
      "Damask 6\n",
      "Cattleya 8\n"
     ]
    }
   ],
   "source": [
    "# go through our list one at a time, print the item in the list and its length\n",
    "for color in colors:\n",
    "    print(color, len(color))"
   ]
  },
  {
   "cell_type": "markdown",
   "id": "193a2ec7",
   "metadata": {},
   "source": [
    "# Branching \n",
    "\n",
    "A program is a series of instructions. But a **straight line** series of instructions is very limiting. Branching allows us to deviate from straight line instructions. The simplest form of branching is a conditional. It's structure has three parts:\n",
    "\n",
    "- a test, an expression that evaluates to either `True` or `False`\n",
    "- a block of code that is executed if the evaluation is `True`\n",
    "- an optional block if the evaluation is `False`"
   ]
  },
  {
   "cell_type": "code",
   "execution_count": 9,
   "id": "dd4d505d",
   "metadata": {},
   "outputs": [
    {
     "name": "stdout",
     "output_type": "stream",
     "text": [
      "Damask\n",
      "Cattleya\n"
     ]
    }
   ],
   "source": [
    "# Go through the list and print an item only if it is a string; also print the index value\n",
    "for color in colors:\n",
    "    if len(color)>5:\n",
    "        print(color)"
   ]
  }
 ],
 "metadata": {
  "kernelspec": {
   "display_name": "Python 3 (ipykernel)",
   "language": "python",
   "name": "python3"
  },
  "language_info": {
   "codemirror_mode": {
    "name": "ipython",
    "version": 3
   },
   "file_extension": ".py",
   "mimetype": "text/x-python",
   "name": "python",
   "nbconvert_exporter": "python",
   "pygments_lexer": "ipython3",
   "version": "3.9.7"
  }
 },
 "nbformat": 4,
 "nbformat_minor": 5
}
