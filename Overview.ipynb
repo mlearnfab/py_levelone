{
 "cells": [
  {
   "cell_type": "markdown",
   "id": "e846f7cc",
   "metadata": {},
   "source": [
    "# Machine Learning for Absolute Beginners\n",
    "\n",
    "## Python Bootcamp for Machine Learning, Level I\n",
    "\n",
    "#### Revision Date: 02-13-2022\n"
   ]
  },
  {
   "cell_type": "markdown",
   "id": "6a3746b9",
   "metadata": {},
   "source": [
    "> A computer does two things, and two things only: it performs calculations and it remembers the results of those calculations. \n",
    "\n",
    ">**John V. Guttag. MIT**"
   ]
  },
  {
   "cell_type": "markdown",
   "id": "88de8951",
   "metadata": {},
   "source": [
    "# Four Principal Topics\n",
    "\n",
    "\n",
    "\n",
    "- *Program Flow*\n",
    "\n",
    "\n",
    "- *Objects (Data)*\n",
    "\n",
    "\n",
    "- *Operations*\n",
    "\n",
    "\n",
    "- *Functions*\n",
    "\n"
   ]
  },
  {
   "cell_type": "markdown",
   "id": "72abbea6",
   "metadata": {},
   "source": [
    "<img src=\"images/pythonone_topics.png\" style=\"width:550px;height:650px\"/>"
   ]
  },
  {
   "cell_type": "markdown",
   "id": "628563c8",
   "metadata": {},
   "source": [
    "# Seven Key Ideas\n",
    "\n",
    "\n",
    "---\n",
    "\n",
    "- A **program** is a series of *instructions*. Program flow is the path of execution.\n",
    " \n",
    "\n",
    "- Program flow can be strictly **sequential**, but typically involves **iteration** and **branching**.\n",
    " \n",
    "\n",
    "- **Operations** (computations) are performed on **Objects** (Data).\n",
    "\n",
    "\n",
    "- All objects have **types**\n",
    "\n",
    "\n",
    "- The results of an operation can be stored in a **variable**.\n",
    "\n",
    "\n",
    "- **Functions** are blocks of code packaged for reuse. They typically have one or more inputs (parameters) and yield an output.\n",
    "\n",
    "\n",
    "- Python has many built-in functions in its standard library. Others can be imported from other libraries. Finally, you can write your own functions. And you will.\n",
    "\n",
    "---\n",
    "\n"
   ]
  }
 ],
 "metadata": {
  "kernelspec": {
   "display_name": "Python 3 (ipykernel)",
   "language": "python",
   "name": "python3"
  },
  "language_info": {
   "codemirror_mode": {
    "name": "ipython",
    "version": 3
   },
   "file_extension": ".py",
   "mimetype": "text/x-python",
   "name": "python",
   "nbconvert_exporter": "python",
   "pygments_lexer": "ipython3",
   "version": "3.9.7"
  }
 },
 "nbformat": 4,
 "nbformat_minor": 5
}
