{
 "cells": [
  {
   "cell_type": "markdown",
   "id": "e846f7cc",
   "metadata": {},
   "source": [
    "# Machine Learning for Absolute Beginners\n",
    "\n",
    "## Python Bootcamp for Machine Learning, Level I\n",
    "\n",
    "#### Revision Date: 02-13-2022\n"
   ]
  },
  {
   "cell_type": "markdown",
   "id": "6a3746b9",
   "metadata": {},
   "source": [
    "> A computer does two things, and two things only: it performs calculations and it remembers the results of those calculations. \n",
    "\n",
    ">**John V. Guttag. MIT**"
   ]
  },
  {
   "cell_type": "markdown",
   "id": "88de8951",
   "metadata": {},
   "source": [
    "# 1. Overview of Topics and Key Ideas\n",
    "\n",
    "\n",
    "\n",
    "---\n",
    "---\n",
    "- Program Flow \n",
    "\n",
    "\n",
    "- Objects (Data) \n",
    "\n",
    "\n",
    "- Operations\n",
    "\n",
    "\n",
    "- Functions\n",
    "---\n",
    "---\n",
    "\n",
    "- A **program** is a series of *instructions*.\n",
    " \n",
    "\n",
    "- Program flow can be strictly sequential, but typically incorporates *iteration* and *branching*.\n",
    " \n",
    "\n",
    "- **Operations** (computations) are performed on **objects** (Data).\n",
    "\n",
    "\n",
    "- All objects have **types**\n",
    "\n",
    "\n",
    "- The results of an operation can be stored in a **variable**.\n",
    "\n",
    "\n",
    "- **Functions** are blocks of code packaged for reuse. They typically have one or more inputs (parameters) and yield an output.\n",
    "\n",
    "---\n",
    "---\n"
   ]
  },
  {
   "cell_type": "markdown",
   "id": "72abbea6",
   "metadata": {},
   "source": [
    "<img src=\"images/pythonone_topics.png\" style=\"width:550px;height:650px\"/>"
   ]
  },
  {
   "cell_type": "markdown",
   "id": "d4f0062c",
   "metadata": {},
   "source": [
    "# 2. What is a Program?"
   ]
  },
  {
   "cell_type": "markdown",
   "id": "4b0d50ec",
   "metadata": {},
   "source": [
    "<img src=\"images/whatisaprogram.png\" style=\"width:400px;height:350px\"/>"
   ]
  },
  {
   "cell_type": "markdown",
   "id": "cf98eb5d",
   "metadata": {},
   "source": [
    "### My First Program\n",
    "\n",
    "> Three sequential instructions.\n",
    "\n",
    "```Python\n",
    "\n",
    "print(2)\n",
    "print('My name is Ada Lovelace')\n",
    "print(2 + 3)\n",
    "```\n"
   ]
  },
  {
   "cell_type": "code",
   "execution_count": 91,
   "id": "e4314342",
   "metadata": {},
   "outputs": [],
   "source": [
    "# write some code in this cell and then execute\n",
    "\n"
   ]
  },
  {
   "cell_type": "markdown",
   "id": "eb046961",
   "metadata": {},
   "source": [
    "### My Second Program\n",
    "\n",
    "> Assignment of a value (from the input) to a variable.\n",
    "\n",
    "```Python\n",
    "\n",
    "name = input(\"What is your name? \")\n",
    "print(\"Hello, \", name )\n",
    "```\n",
    "\n"
   ]
  },
  {
   "cell_type": "markdown",
   "id": "53a59b09",
   "metadata": {},
   "source": [
    "<img src=\"images/programflow.png\" style=\"width:400px;height:350px\"/>"
   ]
  },
  {
   "cell_type": "code",
   "execution_count": 92,
   "id": "bc4c43cf",
   "metadata": {},
   "outputs": [],
   "source": [
    "# Write your second program here\n",
    "\n"
   ]
  },
  {
   "cell_type": "markdown",
   "id": "f5c49413",
   "metadata": {},
   "source": [
    "### My Third Program\n",
    "\n",
    "> Iteration.\n",
    "\n",
    "```Python\n",
    "name = input(\"What is your name? \")\n",
    "\n",
    "repeat = in(input(\"How many times do you want me to say `Hello'? \")\n",
    "\n",
    "for i in range(int(repeat)):\n",
    "   print(\"Hello, \", name )\n",
    "```\n"
   ]
  },
  {
   "cell_type": "code",
   "execution_count": 93,
   "id": "487f51ea",
   "metadata": {},
   "outputs": [],
   "source": [
    "# Write your third program here\n",
    "\n"
   ]
  },
  {
   "cell_type": "markdown",
   "id": "7188dc5e",
   "metadata": {},
   "source": [
    "### My Fourth Program\n",
    "\n",
    "> Branching based on evaluating a condition.\n",
    "```Python\n",
    "\n",
    "name = input(\"What is your name? \")\n",
    "\n",
    "repeat = int(input(\"How many times do you want me to say `Hello`? \"))\n",
    "\n",
    "for i in range(repeat):\n",
    "    if name == \"Mycroft\":\n",
    "        print(\"I don't like your name. I won't do it!\")\n",
    "        break\n",
    "    else:\n",
    "        print(i, \"Hello, \", name )\n",
    "```\n",
    "        \n",
    "        "
   ]
  },
  {
   "cell_type": "code",
   "execution_count": 94,
   "id": "d3db5b48",
   "metadata": {},
   "outputs": [],
   "source": [
    "# Write your fourth program here"
   ]
  },
  {
   "cell_type": "markdown",
   "id": "6668c6ad",
   "metadata": {},
   "source": [
    "# 3. Simple Objects \n",
    "\n",
    "Python has four types of atoms or simples objects: `int`, `float`, `bool`, and `str`. Every object in Python has a type.\n"
   ]
  },
  {
   "cell_type": "code",
   "execution_count": 95,
   "id": "e8cf481a",
   "metadata": {},
   "outputs": [],
   "source": [
    "# let's create an example of each and assign it to a variable.\n",
    "f = 29.53\n",
    "i = 4\n",
    "s = \"Ada Lovelace\"\n",
    "b = False"
   ]
  },
  {
   "cell_type": "code",
   "execution_count": 28,
   "id": "277ed28d",
   "metadata": {},
   "outputs": [
    {
     "name": "stdout",
     "output_type": "stream",
     "text": [
      "29.53\n",
      "<class 'float'>\n"
     ]
    }
   ],
   "source": [
    "# print the value of f and then check its data type\n",
    "print(f)\n",
    "print(type(f))"
   ]
  },
  {
   "cell_type": "code",
   "execution_count": 29,
   "id": "8e9d6122",
   "metadata": {},
   "outputs": [
    {
     "name": "stdout",
     "output_type": "stream",
     "text": [
      "33.53\n",
      "25.53\n",
      "7.3825\n",
      "760420.4500368101\n",
      "7.0\n",
      "1.5300000000000011\n"
     ]
    }
   ],
   "source": [
    "print(f + i)\n",
    "print(f - i)\n",
    "print(f / i)\n",
    "print(f ** i)\n",
    "print(f // i)\n",
    "print(f % i)"
   ]
  },
  {
   "cell_type": "markdown",
   "id": "a1e4c0c3",
   "metadata": {},
   "source": [
    "# 4. Collections \n",
    "\n",
    "In Python there are four basic collections:  `set`, `list`, `tuple`, and `dict`.  Think of collections as molecules.  Collections are unordered or ordered. Collections are mutable or immutable."
   ]
  },
  {
   "cell_type": "code",
   "execution_count": 32,
   "id": "d41acc99",
   "metadata": {},
   "outputs": [
    {
     "name": "stdout",
     "output_type": "stream",
     "text": [
      "[3.14159, False, -15, 'So far beyond the casual solitudes']\n"
     ]
    }
   ],
   "source": [
    "# from our atoms let's create a list taking a sample of each simple object\n",
    "NoahsArk = [3.14159, False, -15, 'So far beyond the casual solitudes']\n",
    "print(NoahsArk)"
   ]
  },
  {
   "cell_type": "code",
   "execution_count": 33,
   "id": "35596ad7",
   "metadata": {},
   "outputs": [
    {
     "name": "stdout",
     "output_type": "stream",
     "text": [
      "[3.14159, False, -15, 'So far beyond the casual solitudes', 'Re-statement of Romance']\n"
     ]
    }
   ],
   "source": [
    "# lists are mutable, meaning we can add and remove elements from it\n",
    "NoahsArk.append('Re-statement of Romance')\n",
    "print(NoahsArk)"
   ]
  },
  {
   "cell_type": "code",
   "execution_count": 41,
   "id": "0b1d810b",
   "metadata": {},
   "outputs": [],
   "source": [
    "# create two sets\n",
    "evens = {2,4,6,8}\n",
    "odds = {1,3,5,7}"
   ]
  },
  {
   "cell_type": "code",
   "execution_count": 42,
   "id": "32eecfb5",
   "metadata": {},
   "outputs": [
    {
     "data": {
      "text/plain": [
       "{1, 2, 3, 4, 5, 6, 7, 8}"
      ]
     },
     "execution_count": 42,
     "metadata": {},
     "output_type": "execute_result"
    }
   ],
   "source": [
    "# set union\n",
    "evens | odds"
   ]
  },
  {
   "cell_type": "code",
   "execution_count": 43,
   "id": "9d6b7183",
   "metadata": {},
   "outputs": [
    {
     "data": {
      "text/plain": [
       "set()"
      ]
     },
     "execution_count": 43,
     "metadata": {},
     "output_type": "execute_result"
    }
   ],
   "source": [
    "# set intersection\n",
    "evens & odds"
   ]
  },
  {
   "cell_type": "code",
   "execution_count": 53,
   "id": "b8b0a072",
   "metadata": {},
   "outputs": [],
   "source": [
    "# create a dictionary called library\n",
    "library = {\"James Baldwin\": [\"Notes of a Native Son\",\"Giovanni's Room\",\"Go Tell It on the Mountain\"], \n",
    "          \"Anton Chekhov\": [\"Three Sisters\",\"The Cherry Orchard\"],\n",
    "           \"Gustave Flaubert\": [\"Madame Bovary\", \"A Sentimental Education\"]}"
   ]
  },
  {
   "cell_type": "code",
   "execution_count": 52,
   "id": "8ee22bc1",
   "metadata": {},
   "outputs": [
    {
     "data": {
      "text/plain": [
       "['Madame Bovary', 'A Sentimental Education']"
      ]
     },
     "execution_count": 52,
     "metadata": {},
     "output_type": "execute_result"
    }
   ],
   "source": [
    "library[\"Gustave Flaubert\"]"
   ]
  },
  {
   "cell_type": "code",
   "execution_count": 54,
   "id": "48653813",
   "metadata": {},
   "outputs": [],
   "source": [
    "# create tuples\n",
    "suits = (\"clubs\", \"diamonds\", \"hearts\", \"spades\")\n",
    "ranks = (\"1\", \"2\", \"3\",\"4\",\"4\",\"5\",\"6\",\"7\",\"8\",\"9\",\"10\",\"Jack\",\"Queen\",\"King\",\"Ace\")"
   ]
  },
  {
   "cell_type": "code",
   "execution_count": 55,
   "id": "198c8dc0",
   "metadata": {},
   "outputs": [
    {
     "data": {
      "text/plain": [
       "'hearts'"
      ]
     },
     "execution_count": 55,
     "metadata": {},
     "output_type": "execute_result"
    }
   ],
   "source": [
    "suits[2]"
   ]
  },
  {
   "cell_type": "code",
   "execution_count": 71,
   "id": "f4595673",
   "metadata": {},
   "outputs": [],
   "source": [
    "# create a card deck using list comprehension \n",
    "card_deck = tuple([(suit,rank) for suit in suits for rank in ranks])"
   ]
  },
  {
   "cell_type": "code",
   "execution_count": 82,
   "id": "ef043c88",
   "metadata": {},
   "outputs": [],
   "source": [
    "# import the random library which contains a set of functions for generating pseudo random numbers\n",
    "import random"
   ]
  },
  {
   "cell_type": "code",
   "execution_count": 86,
   "id": "92778abc",
   "metadata": {},
   "outputs": [
    {
     "data": {
      "text/plain": [
       "('clubs', '9')"
      ]
     },
     "execution_count": 86,
     "metadata": {},
     "output_type": "execute_result"
    }
   ],
   "source": [
    "# randomly choose or sample from certain types of collections (e.g. lists, tuples)\n",
    "random.choice(card_deck)\n",
    "#random.sample(card_deck,1)"
   ]
  },
  {
   "cell_type": "markdown",
   "id": "658bc138",
   "metadata": {},
   "source": [
    "# 5. Iteration\n",
    "\n",
    "Iteration is the process of repeating a block of code multiple times. "
   ]
  },
  {
   "cell_type": "code",
   "execution_count": 74,
   "id": "293fefec",
   "metadata": {},
   "outputs": [],
   "source": [
    "# let's define a list containing colors\n",
    "colors = ['Mauve', 'Ochre', 'Damask', 'Cattleya']"
   ]
  },
  {
   "cell_type": "code",
   "execution_count": 87,
   "id": "864e245e",
   "metadata": {},
   "outputs": [
    {
     "data": {
      "text/plain": [
       "'Damask'"
      ]
     },
     "execution_count": 87,
     "metadata": {},
     "output_type": "execute_result"
    }
   ],
   "source": [
    "# retrieve the third element of the list. python indices begin at 9\n",
    "colors[2]"
   ]
  },
  {
   "cell_type": "code",
   "execution_count": 76,
   "id": "c14a9a44",
   "metadata": {},
   "outputs": [
    {
     "name": "stdout",
     "output_type": "stream",
     "text": [
      "Mauve 5\n",
      "Ochre 5\n",
      "Damask 6\n",
      "Cattleya 8\n"
     ]
    }
   ],
   "source": [
    "# go through our list one at a time, print the item in the list and its length\n",
    "for color in colors:\n",
    "    print(color, len(color))"
   ]
  },
  {
   "cell_type": "markdown",
   "id": "193a2ec7",
   "metadata": {},
   "source": [
    "# 6. Branching \n",
    "\n",
    "A program is a series of instructions. But a **straight line** series of instructions is very limiting. Branching allows us to deviate from straight line instructions. The simplest form of branching is a conditional. It's structure has three parts:\n",
    "\n",
    "- a test, an expression that evaluates to either `True` or `False`\n",
    "- a block of code that is executed if the evaluation is `True`\n",
    "- an optional block if the evaluation is `False`"
   ]
  },
  {
   "cell_type": "code",
   "execution_count": null,
   "id": "bccdce5c",
   "metadata": {},
   "outputs": [],
   "source": [
    "# Let's print the list NoahsAk\n",
    "NoahsArk"
   ]
  },
  {
   "cell_type": "code",
   "execution_count": 77,
   "id": "dd4d505d",
   "metadata": {},
   "outputs": [
    {
     "name": "stdout",
     "output_type": "stream",
     "text": [
      "Damask\n",
      "Cattleya\n"
     ]
    }
   ],
   "source": [
    "# Go through the list and print an item only if it is a string; also print the index value\n",
    "for color in colors:\n",
    "    if len(color)>5:\n",
    "        print(color)"
   ]
  },
  {
   "cell_type": "markdown",
   "id": "63e01d56",
   "metadata": {},
   "source": [
    "# 7. Functions \n",
    "\n",
    "Functions form the core of any programming language. What is a function in programming? It's a block of code that performs a computation. But it is defined in a way that we call on the function as we need it. A function takes a set of inputs, performs a computation on the inputs, and produces an output."
   ]
  },
  {
   "cell_type": "code",
   "execution_count": 78,
   "id": "c13c21f6",
   "metadata": {},
   "outputs": [],
   "source": [
    "def name_of_function(x,y,z):\n",
    "    return x+y+z"
   ]
  },
  {
   "cell_type": "code",
   "execution_count": 79,
   "id": "ac06714a",
   "metadata": {},
   "outputs": [
    {
     "data": {
      "text/plain": [
       "10"
      ]
     },
     "execution_count": 79,
     "metadata": {},
     "output_type": "execute_result"
    }
   ],
   "source": [
    "name_of_function(2,3,5)"
   ]
  },
  {
   "cell_type": "code",
   "execution_count": 88,
   "id": "80f3da7c",
   "metadata": {},
   "outputs": [],
   "source": [
    "# let's define a function for calculating tips\n",
    "# input value is a string; needs to be converted to type float or int for calculations\n",
    "\n",
    "def tip_calculator():\n",
    "    bill = float(input(\"How much is the bill? \"))\n",
    "    pctg = float(input(\"How percentage do you want to tip?\"))\n",
    "    tip = bill * pctg\n",
    "    return tip"
   ]
  },
  {
   "cell_type": "code",
   "execution_count": 81,
   "id": "97f1c505",
   "metadata": {},
   "outputs": [
    {
     "name": "stdout",
     "output_type": "stream",
     "text": [
      "How much is the bill? 23\n",
      "How percentage do you want to tip?.22\n"
     ]
    },
    {
     "data": {
      "text/plain": [
       "5.06"
      ]
     },
     "execution_count": 81,
     "metadata": {},
     "output_type": "execute_result"
    }
   ],
   "source": [
    "tip_calculator()"
   ]
  },
  {
   "cell_type": "code",
   "execution_count": 89,
   "id": "b9645fda",
   "metadata": {},
   "outputs": [],
   "source": [
    "# rewrite function so it takes bill and pctg as parameters of function\n",
    "def tip_calc(bill,pctg):\n",
    "    tip = bill * pctg\n",
    "    return tip"
   ]
  },
  {
   "cell_type": "code",
   "execution_count": 90,
   "id": "b6927cf8",
   "metadata": {},
   "outputs": [
    {
     "data": {
      "text/plain": [
       "23.0"
      ]
     },
     "execution_count": 90,
     "metadata": {},
     "output_type": "execute_result"
    }
   ],
   "source": [
    "tip_calc(100,.23)"
   ]
  }
 ],
 "metadata": {
  "kernelspec": {
   "display_name": "Python 3 (ipykernel)",
   "language": "python",
   "name": "python3"
  },
  "language_info": {
   "codemirror_mode": {
    "name": "ipython",
    "version": 3
   },
   "file_extension": ".py",
   "mimetype": "text/x-python",
   "name": "python",
   "nbconvert_exporter": "python",
   "pygments_lexer": "ipython3",
   "version": "3.9.7"
  }
 },
 "nbformat": 4,
 "nbformat_minor": 5
}
