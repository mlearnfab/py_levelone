{
 "cells": [
  {
   "cell_type": "code",
   "execution_count": null,
   "id": "3684e2f0",
   "metadata": {},
   "outputs": [],
   "source": []
  },
  {
   "cell_type": "markdown",
   "id": "e846f7cc",
   "metadata": {},
   "source": [
    "# Machine Learning for Absolute Beginners\n",
    "\n",
    "## Python Bootcamp for Machine Learning, Level I\n",
    "\n",
    "#### Revision Date: 02-13-2022\n"
   ]
  },
  {
   "cell_type": "markdown",
   "id": "128706d6",
   "metadata": {},
   "source": [
    "# Program and Program Flow"
   ]
  },
  {
   "cell_type": "markdown",
   "id": "4b0d50ec",
   "metadata": {},
   "source": [
    "> A program is a series of instructions. Program flow is the path of execution."
   ]
  },
  {
   "cell_type": "markdown",
   "id": "cf98eb5d",
   "metadata": {},
   "source": [
    "### 1. My First Program\n",
    "\n",
    "> Let's give the computer three instructions: 1) print the number 2; 2) print the string 'My name is Ada Lovelace'; 3) print the result of the operation 2 +3.\n",
    "\n",
    "```Python\n",
    "\n",
    "print(2)\n",
    "print('My name is Ada Lovelace')\n",
    "print(2 + 3)\n",
    "```\n"
   ]
  },
  {
   "cell_type": "code",
   "execution_count": 1,
   "id": "e4314342",
   "metadata": {},
   "outputs": [],
   "source": [
    "# experiment with some basic code in this cell\n",
    "\n"
   ]
  },
  {
   "cell_type": "markdown",
   "id": "eb046961",
   "metadata": {},
   "source": [
    "### 2. My Second Program\n",
    "\n",
    "> Assign the value (from the input) to a variable. Then, print Hello + name.\n",
    "\n",
    "```Python\n",
    "\n",
    "name = input(\"What is your name? \")\n",
    "print(\"Hello, \", name )\n",
    "```\n",
    "\n"
   ]
  },
  {
   "cell_type": "code",
   "execution_count": 4,
   "id": "bc4c43cf",
   "metadata": {},
   "outputs": [],
   "source": [
    "# experiment with some basic code in this cell\n",
    "\n"
   ]
  },
  {
   "cell_type": "code",
   "execution_count": null,
   "id": "4a4e4534",
   "metadata": {},
   "outputs": [],
   "source": []
  },
  {
   "cell_type": "markdown",
   "id": "ac8b5246",
   "metadata": {},
   "source": [
    "**Comment**: The input function returns a value of type string. If it is to be used for numerical computation, its type must be converted to `int` or `float`."
   ]
  },
  {
   "cell_type": "markdown",
   "id": "f5c49413",
   "metadata": {},
   "source": [
    "### My Third Program\n",
    "\n",
    "> Iteration.\n",
    "\n",
    "```Python\n",
    "name = input(\"What is your name? \")\n",
    "\n",
    "repeat = int(input(\"How many times do you want me to say `Hello'? \")\n",
    "\n",
    "for i in range(int(repeat)):\n",
    "   print(\"Hello, \", name )\n",
    "```\n"
   ]
  },
  {
   "cell_type": "code",
   "execution_count": 3,
   "id": "487f51ea",
   "metadata": {},
   "outputs": [],
   "source": [
    "# experiment with code in this cell\n",
    "\n"
   ]
  },
  {
   "cell_type": "markdown",
   "id": "7188dc5e",
   "metadata": {},
   "source": [
    "### My Fourth Program\n",
    "\n",
    "> Branching based on evaluating a condition.\n",
    "```Python\n",
    "\n",
    "name = input(\"What is your name? \")\n",
    "\n",
    "repeat = int(input(\"How many times do you want me to say `Hello`? \"))\n",
    "\n",
    "for i in range(repeat):\n",
    "    if name == \"Mycroft\":\n",
    "        print(\"I don't like your name. I won't do it!\")\n",
    "        break\n",
    "    else:\n",
    "        print(i, \"Hello, \", name )\n",
    "```\n",
    "        \n",
    "        "
   ]
  },
  {
   "cell_type": "code",
   "execution_count": 4,
   "id": "d3db5b48",
   "metadata": {},
   "outputs": [],
   "source": [
    "# experiment with code in this cell"
   ]
  }
 ],
 "metadata": {
  "kernelspec": {
   "display_name": "Python 3 (ipykernel)",
   "language": "python",
   "name": "python3"
  },
  "language_info": {
   "codemirror_mode": {
    "name": "ipython",
    "version": 3
   },
   "file_extension": ".py",
   "mimetype": "text/x-python",
   "name": "python",
   "nbconvert_exporter": "python",
   "pygments_lexer": "ipython3",
   "version": "3.9.7"
  }
 },
 "nbformat": 4,
 "nbformat_minor": 5
}
