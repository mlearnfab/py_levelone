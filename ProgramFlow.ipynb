{
 "cells": [
  {
   "cell_type": "markdown",
   "id": "e846f7cc",
   "metadata": {},
   "source": [
    "# Python Bootcamp for Machine Learning, Level I\n",
    "\n",
    "#### Revision Date: 02-13-2022\n"
   ]
  },
  {
   "cell_type": "markdown",
   "id": "128706d6",
   "metadata": {},
   "source": [
    "# Program and Program Flow"
   ]
  },
  {
   "cell_type": "markdown",
   "id": "4b0d50ec",
   "metadata": {},
   "source": [
    "> A program is a series of instructions. Program flow is the path of execution."
   ]
  },
  {
   "cell_type": "markdown",
   "id": "cf98eb5d",
   "metadata": {},
   "source": [
    "### 1. My First Program\n",
    "\n",
    "> The program below has three instructions:\n",
    "\n",
    "```Python\n",
    "\n",
    "print(2)\n",
    "print('My name is Ada Lovelace')\n",
    "print(2 + 3)\n",
    "```\n"
   ]
  },
  {
   "cell_type": "code",
   "execution_count": 1,
   "id": "e4314342",
   "metadata": {},
   "outputs": [],
   "source": [
    "# experiment with some basic code in this cell\n"
   ]
  },
  {
   "cell_type": "markdown",
   "id": "eb046961",
   "metadata": {},
   "source": [
    "### 2. My Second Program\n",
    "\n",
    "> The program below accepts an input and assigns it to a variable called `name`.\n",
    "\n",
    "```Python\n",
    "\n",
    "name = input(\"What is your name? \")\n",
    "print(\"Hello, \", name )\n",
    "```\n",
    "\n"
   ]
  },
  {
   "cell_type": "code",
   "execution_count": null,
   "id": "bc4c43cf",
   "metadata": {},
   "outputs": [],
   "source": []
  },
  {
   "cell_type": "code",
   "execution_count": null,
   "id": "4a4e4534",
   "metadata": {},
   "outputs": [],
   "source": []
  },
  {
   "cell_type": "markdown",
   "id": "ac8b5246",
   "metadata": {},
   "source": [
    "**Comment**: The input function returns a value of type string. If it is to be used for numerical computation, its type must be converted to `int` or `float`."
   ]
  },
  {
   "cell_type": "markdown",
   "id": "f5c49413",
   "metadata": {},
   "source": [
    "### My Third Program\n",
    "\n",
    "> The program below accepts two inputs and stores each in variables. The `type` of the second input is changed from `str` to `int` in anticipation of the for loop.\n",
    "\n",
    "```Python\n",
    "name = input(\"What is your name? \")\n",
    "\n",
    "repeat = int(input(\"How many times do you want me to say `Hello'? \"))\n",
    "\n",
    "for i in range(repeat):\n",
    "   print(\"Hello, \", name )\n",
    "```\n"
   ]
  },
  {
   "cell_type": "code",
   "execution_count": 2,
   "id": "487f51ea",
   "metadata": {},
   "outputs": [],
   "source": [
    "# experiment with code in this cell\n",
    "\n"
   ]
  },
  {
   "cell_type": "markdown",
   "id": "7188dc5e",
   "metadata": {},
   "source": [
    "### My Fourth Program\n",
    "\n",
    "> Branching based on evaluating a condition.\n",
    "```Python\n",
    "\n",
    "name = input(\"What is your name? \")\n",
    "\n",
    "repeat = int(input(\"How many times do you want me to say `Hello`? \"))\n",
    "\n",
    "for i in range(repeat):\n",
    "    if name == \"Mycroft\":\n",
    "        print(\"I don't like your name. I won't do it!\")\n",
    "        break\n",
    "    else:\n",
    "        print(i, \"Hello, \", name )\n",
    "```\n",
    "        \n",
    "        "
   ]
  },
  {
   "cell_type": "code",
   "execution_count": 13,
   "id": "d3db5b48",
   "metadata": {},
   "outputs": [
    {
     "name": "stdout",
     "output_type": "stream",
     "text": [
      "What is your name? Ada \n",
      "How many times do you want me to say `Hello`? 8\n",
      "0 Hello,  Ada \n",
      "1 Hello,  Ada \n",
      "2 Hello,  Ada \n",
      "3 Hello,  Ada \n",
      "4 Hello,  Ada \n",
      "5 Hello,  Ada \n",
      "6 Hello,  Ada \n",
      "7 Hello,  Ada \n"
     ]
    }
   ],
   "source": [
    "# experiment with code in this cell\n",
    "\n"
   ]
  }
 ],
 "metadata": {
  "kernelspec": {
   "display_name": "Python 3 (ipykernel)",
   "language": "python",
   "name": "python3"
  },
  "language_info": {
   "codemirror_mode": {
    "name": "ipython",
    "version": 3
   },
   "file_extension": ".py",
   "mimetype": "text/x-python",
   "name": "python",
   "nbconvert_exporter": "python",
   "pygments_lexer": "ipython3",
   "version": "3.9.7"
  }
 },
 "nbformat": 4,
 "nbformat_minor": 5
}
