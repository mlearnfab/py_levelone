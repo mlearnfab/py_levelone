{
 "cells": [
  {
   "cell_type": "markdown",
   "id": "e846f7cc",
   "metadata": {},
   "source": [
    "# Machine Learning for Absolute Beginners\n",
    "\n",
    "## Python Bootcamp for Machine Learning, Level I\n",
    "\n",
    "#### Revision Date: 02-13-2022\n"
   ]
  },
  {
   "cell_type": "markdown",
   "id": "6668c6ad",
   "metadata": {},
   "source": [
    "# Simple Objects \n",
    "\n",
    "Python has four types of atoms or simples objects: `int`, `float`, `bool`, and `str`. Every object in Python has a type.\n"
   ]
  },
  {
   "cell_type": "code",
   "execution_count": 2,
   "id": "e8cf481a",
   "metadata": {},
   "outputs": [],
   "source": [
    "# let's create an example of each and assign it to a variable.\n",
    "f = 29.53\n",
    "i = 4\n",
    "s = \"Ada Lovelace\"\n",
    "b = False"
   ]
  },
  {
   "cell_type": "code",
   "execution_count": 3,
   "id": "277ed28d",
   "metadata": {},
   "outputs": [
    {
     "name": "stdout",
     "output_type": "stream",
     "text": [
      "29.53\n",
      "<class 'float'>\n"
     ]
    }
   ],
   "source": [
    "# print the value of f and then check its data type\n",
    "print(f)\n",
    "print(type(f))"
   ]
  },
  {
   "cell_type": "code",
   "execution_count": 4,
   "id": "8e9d6122",
   "metadata": {},
   "outputs": [
    {
     "name": "stdout",
     "output_type": "stream",
     "text": [
      "33.53\n",
      "25.53\n",
      "7.3825\n",
      "760420.4500368101\n",
      "7.0\n",
      "1.5300000000000011\n"
     ]
    }
   ],
   "source": [
    "print(f + i)\n",
    "print(f - i)\n",
    "print(f / i)\n",
    "print(f ** i)\n",
    "print(f // i)\n",
    "print(f % i)"
   ]
  },
  {
   "cell_type": "code",
   "execution_count": 5,
   "id": "76829c89",
   "metadata": {},
   "outputs": [
    {
     "data": {
      "text/plain": [
       "False"
      ]
     },
     "execution_count": 5,
     "metadata": {},
     "output_type": "execute_result"
    }
   ],
   "source": [
    "i > f"
   ]
  },
  {
   "cell_type": "code",
   "execution_count": null,
   "id": "9b7b488a",
   "metadata": {},
   "outputs": [],
   "source": [
    "# experiment with the four variables in this cell "
   ]
  }
 ],
 "metadata": {
  "kernelspec": {
   "display_name": "Python 3 (ipykernel)",
   "language": "python",
   "name": "python3"
  },
  "language_info": {
   "codemirror_mode": {
    "name": "ipython",
    "version": 3
   },
   "file_extension": ".py",
   "mimetype": "text/x-python",
   "name": "python",
   "nbconvert_exporter": "python",
   "pygments_lexer": "ipython3",
   "version": "3.9.7"
  }
 },
 "nbformat": 4,
 "nbformat_minor": 5
}
