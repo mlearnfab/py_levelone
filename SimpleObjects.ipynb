{
 "cells": [
  {
   "cell_type": "markdown",
   "id": "e846f7cc",
   "metadata": {},
   "source": [
    "# Python Bootcamp for Machine Learning, Level I\n",
    "\n",
    "#### Revision Date: 02-13-2022\n"
   ]
  },
  {
   "cell_type": "markdown",
   "id": "6668c6ad",
   "metadata": {},
   "source": [
    "# Simple Objects \n",
    "\n",
    "Python has four types of atoms or simples objects: `int`, `float`, `bool`, and `str`. Every object in Python has a type.\n"
   ]
  },
  {
   "cell_type": "code",
   "execution_count": 9,
   "id": "e8cf481a",
   "metadata": {},
   "outputs": [],
   "source": [
    "# let's create an example of each and assign it to a variable.\n",
    "f = 2.3\n",
    "i = 4\n",
    "s = \"Ada Lovelace\"\n",
    "b = False"
   ]
  },
  {
   "cell_type": "code",
   "execution_count": 6,
   "id": "277ed28d",
   "metadata": {},
   "outputs": [
    {
     "name": "stdout",
     "output_type": "stream",
     "text": [
      "Ada Lovelace\n",
      "<class 'str'>\n"
     ]
    }
   ],
   "source": [
    "# print the value of f and then check its data type\n",
    "print(s)\n",
    "print(type(s))"
   ]
  },
  {
   "cell_type": "markdown",
   "id": "87459061",
   "metadata": {},
   "source": [
    "## Some basic operations on numeric types"
   ]
  },
  {
   "cell_type": "code",
   "execution_count": 7,
   "id": "8e9d6122",
   "metadata": {},
   "outputs": [
    {
     "name": "stdout",
     "output_type": "stream",
     "text": [
      "13\n",
      "5\n",
      "2.25\n",
      "6561\n",
      "2\n",
      "1\n"
     ]
    }
   ],
   "source": [
    "print(f + i)\n",
    "print(f - i)\n",
    "print(f / i)\n",
    "print(f ** i)\n",
    "print(f // i)\n",
    "print(f % i)"
   ]
  },
  {
   "cell_type": "code",
   "execution_count": 2,
   "id": "f87c80de",
   "metadata": {},
   "outputs": [],
   "source": [
    "## Comparison operators yield a value of type `bool`. It can be stored in a variable, if necessary"
   ]
  },
  {
   "cell_type": "markdown",
   "id": "a879cbdd",
   "metadata": {},
   "source": [
    "comparison = i > f"
   ]
  },
  {
   "cell_type": "code",
   "execution_count": 12,
   "id": "5f7a3d34",
   "metadata": {},
   "outputs": [
    {
     "name": "stdout",
     "output_type": "stream",
     "text": [
      "True\n"
     ]
    }
   ],
   "source": [
    "print(comparison)"
   ]
  },
  {
   "cell_type": "code",
   "execution_count": null,
   "id": "9b7b488a",
   "metadata": {},
   "outputs": [],
   "source": [
    "# experiment with the four variables in this cell "
   ]
  }
 ],
 "metadata": {
  "kernelspec": {
   "display_name": "Python 3 (ipykernel)",
   "language": "python",
   "name": "python3"
  },
  "language_info": {
   "codemirror_mode": {
    "name": "ipython",
    "version": 3
   },
   "file_extension": ".py",
   "mimetype": "text/x-python",
   "name": "python",
   "nbconvert_exporter": "python",
   "pygments_lexer": "ipython3",
   "version": "3.9.7"
  }
 },
 "nbformat": 4,
 "nbformat_minor": 5
}
